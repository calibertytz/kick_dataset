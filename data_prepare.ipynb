{
 "cells": [
  {
   "cell_type": "code",
   "execution_count": 1,
   "metadata": {},
   "outputs": [],
   "source": [
    "# encoding:utf-8\n",
    "import os\n",
    "import pandas as pd\n",
    "import numpy as np\n",
    "\n",
    "CURRENT_PATH = os.getcwd()\n",
    "\n",
    "import copy\n",
    "\n",
    "\n",
    "def label_handler(data, label_col):\n",
    "    result = copy.deepcopy(data)\n",
    "    result[\"label\"] = result[label_col]\n",
    "    result = result.drop([label_col], axis=1)\n",
    "    return result\n",
    "\n",
    "\n",
    "def date_handler(data, date_col):\n",
    "    result = copy.deepcopy(data)\n",
    "    result = result.drop([date_col], axis=1)\n",
    "    return result\n",
    "\n",
    "\n",
    "def id_handler(data, id_col):\n",
    "    result = copy.deepcopy(data)\n",
    "    result = result.drop([id_col], axis=1)\n",
    "    return result\n",
    "\n",
    "\n",
    "def drop_const_var(data):\n",
    "    \"\"\"\n",
    "    delete the constant variable\n",
    "    :param data:\n",
    "    :return:\n",
    "    \"\"\"\n",
    "    result = data.copy(deep=True)\n",
    "    for col in data.columns:\n",
    "        if len(data.loc[~pd.isnull(data[col]), col].unique()) <= 1:\n",
    "            result.drop(columns=col, inplace=True)\n",
    "    return result\n",
    "\n",
    "\n",
    "def drop_not_need_var(data, col):\n",
    "    result = copy.deepcopy(data)\n",
    "    result = result.drop([col], axis=1)\n",
    "    return result\n",
    "\n",
    "\n",
    "def data_handler(data: pd.DataFrame, col_config: dict, nbins=20, need_dis_con=True):\n",
    "    cont_vars = []\n",
    "    dis_vars = []\n",
    "\n",
    "    for col in col_config.keys():\n",
    "        col_type = col_config[col]\n",
    "        if col_type == \"id\":\n",
    "            data = id_handler(data, col)\n",
    "\n",
    "        elif col_type == \"drop\":\n",
    "            data = drop_not_need_var(data, col)\n",
    "\n",
    "        elif col_type == \"date\":\n",
    "            data = date_handler(data, col)\n",
    "\n",
    "        elif col_type == \"label\":\n",
    "            data = label_handler(data, col)\n",
    "\n",
    "        elif col_type == \"con\":\n",
    "            cont_vars.append(col)\n",
    "\n",
    "        elif col_type == \"dis\":\n",
    "            dis_vars.append(col)\n",
    "\n",
    "    print(f\"dis_vars is {dis_vars}\")\n",
    "    print(f\"cont_vars is {cont_vars}\")\n",
    "    x_dis = data[dis_vars].to_numpy()\n",
    "    x_cont = data[cont_vars].to_numpy()\n",
    "\n",
    "    if need_dis_con:\n",
    "        x_dis_cont, _ = discretize(x_cont, nbins=nbins)\n",
    "        y = data['label'].to_numpy()\n",
    "        x_final = np.concatenate([encode_label_mat(x_dis), x_dis_cont], axis=1)\n",
    "    else:\n",
    "        x_final = np.concatenate([encode_label_mat(x_dis), x_cont], axis=1)\n",
    "        y = data['label'].to_numpy()\n",
    "    return x_final, y\n",
    "\n",
    "\n",
    "def encode_label(x):\n",
    "    unique = sorted(list(set([str(item) for item in np.unique(x.astype(str))])))\n",
    "    kv = {unique[i]: i for i in range(len(unique))}\n",
    "    vfunc = np.vectorize(lambda x: kv[str(x)])\n",
    "    return vfunc(x)\n",
    "\n",
    "\n",
    "def encode_label_mat(x):\n",
    "    _, ncol = x.shape\n",
    "    result = np.empty_like(x, dtype=int)\n",
    "    for col in range(ncol):\n",
    "        result[:, col] = encode_label(x[:, col])\n",
    "    return result\n",
    "\n",
    "\n",
    "def impute_nan(x, method='median'):\n",
    "    _, ncol = x.shape\n",
    "    result = np.empty_like(x)\n",
    "\n",
    "    for col in range(ncol):\n",
    "        if method == 'median':\n",
    "            data = x[:, col]\n",
    "            impute_value = np.median(data[~pd.isnull(data) & (data != np.inf) & (data != -np.inf)])\n",
    "        else:\n",
    "            raise NotImplementedError()\n",
    "\n",
    "        func = np.vectorize(lambda x: impute_value if pd.isnull(x) else x)\n",
    "        result[:, col] = func(x[:, col])\n",
    "    return result\n",
    "\n",
    "\n",
    "def get_uniform_interval(minimum, maximum, nbins):\n",
    "    result = [minimum]\n",
    "    step_size = (float(maximum - minimum)) / nbins\n",
    "    for index in range(nbins - 1):\n",
    "        result.append(minimum + step_size * (index + 1))\n",
    "    result.append(maximum)\n",
    "    return result\n",
    "\n",
    "\n",
    "def get_interval_v2(x, sorted_intervals):\n",
    "    if pd.isnull(x):\n",
    "        return -1\n",
    "    if x == np.inf:\n",
    "        return -2\n",
    "    if x == -np.inf:\n",
    "        return -3\n",
    "    interval = 0\n",
    "    found = False\n",
    "    sorted_intervals.append(np.inf)\n",
    "    while not found and interval < len(sorted_intervals) - 1:\n",
    "        if sorted_intervals[interval] <= x < sorted_intervals[interval + 1]:\n",
    "            return interval\n",
    "        else:\n",
    "            interval += 1\n",
    "\n",
    "\n",
    "def get_quantile_interval(data, nbins):\n",
    "    quantiles = get_uniform_interval(0, 1, nbins)\n",
    "    return list(np.quantile(data[(~pd.isnull(data)) & (data != np.inf) & (data != -np.inf)], quantiles))\n",
    "\n",
    "\n",
    "def discretize(x, nbins=20):\n",
    "    nrow, ncol = x.shape\n",
    "    result = np.empty_like(x)\n",
    "    interval_list = list()\n",
    "    for col in range(ncol):\n",
    "        intervals = sorted(list(set(get_quantile_interval(x[:, col], nbins))))\n",
    "        interval_centroid = list()\n",
    "\n",
    "        for i in range(len(intervals) - 1):\n",
    "            interval_centroid.append(0.5 * (intervals[i] + intervals[i + 1]))\n",
    "        func = np.vectorize(lambda x: get_interval_v2(x, intervals))\n",
    "        result[:, col] = encode_label(func(x[:, col]))\n",
    "        interval_list.append(interval_centroid)\n",
    "    return result.astype(np.int64), interval_list"
   ]
  },
  {
   "cell_type": "code",
   "execution_count": 2,
   "metadata": {},
   "outputs": [
    {
     "name": "stdout",
     "output_type": "stream",
     "text": [
      "(72983, 34)\n"
     ]
    }
   ],
   "source": [
    "df = pd.read_csv(\"training.csv\")\n",
    "print(df.shape)"
   ]
  },
  {
   "cell_type": "code",
   "execution_count": 3,
   "metadata": {},
   "outputs": [
    {
     "name": "stdout",
     "output_type": "stream",
     "text": [
      "(70000, 34)\n"
     ]
    }
   ],
   "source": [
    "df = df.iloc[:70000,:]\n",
    "print(df.shape)"
   ]
  },
  {
   "cell_type": "code",
   "execution_count": 15,
   "metadata": {},
   "outputs": [
    {
     "name": "stdout",
     "output_type": "stream",
     "text": [
      "dis_vars is ['Auction', 'Make', 'Color', 'Transmission', 'WheelType', 'Nationality', 'Size', 'TopThreeAmericanName', 'PRIMEUNIT', 'AUCGUART', 'VNST', 'IsOnlineSale']\n",
      "cont_vars is ['VehYear', 'VehicleAge', 'VehOdo', 'MMRAcquisitionAuctionAveragePrice', 'MMRAcquisitionAuctionCleanPrice', 'MMRAcquisitionRetailAveragePrice', 'MMRAcquisitonRetailCleanPrice', 'MMRCurrentAuctionAveragePrice', 'MMRCurrentAuctionCleanPrice', 'MMRCurrentRetailAveragePrice', 'MMRCurrentRetailCleanPrice', 'VehBCost', 'WarrantyCost']\n"
     ]
    }
   ],
   "source": [
    "\n",
    "data_type_config = {'RefId': 'id',\n",
    "                    'IsBadBuy': 'label',\n",
    "                    'PurchDate': 'date',\n",
    "                    'Auction': 'dis',\n",
    "                    'VehYear': 'con',\n",
    "                    'VehicleAge': 'con',\n",
    "                    'Make': 'dis',\n",
    "                    'Model': 'drop',\n",
    "                    'Trim': 'drop',\n",
    "                    'SubModel': 'drop',\n",
    "                    'Color': 'dis',\n",
    "                    'Transmission': 'dis',\n",
    "                    'WheelTypeID': 'id',\n",
    "                    'WheelType': 'dis',\n",
    "                    'VehOdo': 'con',\n",
    "                    'Nationality': 'dis',\n",
    "                    'Size': 'dis',\n",
    "                    'TopThreeAmericanName': 'dis',\n",
    "                    'MMRAcquisitionAuctionAveragePrice': 'con',\n",
    "                    'MMRAcquisitionAuctionCleanPrice': 'con',\n",
    "                    'MMRAcquisitionRetailAveragePrice': 'con',\n",
    "                    'MMRAcquisitonRetailCleanPrice': 'con',\n",
    "                    'MMRCurrentAuctionAveragePrice': 'con',\n",
    "                    'MMRCurrentAuctionCleanPrice': 'con',\n",
    "                    'MMRCurrentRetailAveragePrice': 'con',\n",
    "                    'MMRCurrentRetailCleanPrice': 'con',\n",
    "                    'PRIMEUNIT': 'dis',\n",
    "                    'AUCGUART': 'dis',\n",
    "                    'BYRNO': 'id',\n",
    "                    'VNZIP1': 'drop',\n",
    "                    'VNST': 'dis',\n",
    "                    'VehBCost': 'con',\n",
    "                    'IsOnlineSale': 'dis',\n",
    "                    'WarrantyCost': 'con'}\n",
    "\n",
    "df = drop_const_var(df).sample(frac=1).reset_index(drop=True)\n",
    "X, y = data_handler(df, data_type_config, nbins=50)"
   ]
  },
  {
   "cell_type": "code",
   "execution_count": 20,
   "metadata": {},
   "outputs": [],
   "source": [
    "from sklearn.model_selection import train_test_split\n",
    "\n",
    "X_train, X_test, y_train, y_test = train_test_split(X, y, test_size=2/7, random_state=128)"
   ]
  },
  {
   "cell_type": "code",
   "execution_count": 21,
   "metadata": {},
   "outputs": [
    {
     "data": {
      "text/plain": [
       "0.12232"
      ]
     },
     "execution_count": 21,
     "metadata": {},
     "output_type": "execute_result"
    }
   ],
   "source": [
    "np.sum(y_train)/y_train.shape[0]"
   ]
  },
  {
   "cell_type": "code",
   "execution_count": 22,
   "metadata": {},
   "outputs": [
    {
     "data": {
      "text/plain": [
       "0.1199"
      ]
     },
     "execution_count": 22,
     "metadata": {},
     "output_type": "execute_result"
    }
   ],
   "source": [
    "np.sum(y_test)/y_test.shape[0]"
   ]
  },
  {
   "cell_type": "code",
   "execution_count": 24,
   "metadata": {},
   "outputs": [
    {
     "name": "stdout",
     "output_type": "stream",
     "text": [
      "(50000, 26)\n",
      "(20000, 26)\n"
     ]
    }
   ],
   "source": [
    "train_data = pd.DataFrame(X_train,columns=['Auction', 'Make', 'Color', 'Transmission', 'WheelType', 'Nationality', 'Size', 'TopThreeAmericanName', 'PRIMEUNIT', 'AUCGUART', 'VNST', 'IsOnlineSale' ,'VehYear', 'VehicleAge', 'VehOdo', 'MMRAcquisitionAuctionAveragePrice', 'MMRAcquisitionAuctionCleanPrice', 'MMRAcquisitionRetailAveragePrice', 'MMRAcquisitonRetailCleanPrice', 'MMRCurrentAuctionAveragePrice', 'MMRCurrentAuctionCleanPrice', 'MMRCurrentRetailAveragePrice', 'MMRCurrentRetailCleanPrice', 'VehBCost', 'WarrantyCost'])\n",
    "train_data[\"label\"] = y_train\n",
    "print(train_data.shape)\n",
    "\n",
    "test_data = pd.DataFrame(X_test,columns=['Auction', 'Make', 'Color', 'Transmission', 'WheelType', 'Nationality', 'Size', 'TopThreeAmericanName', 'PRIMEUNIT', 'AUCGUART', 'VNST', 'IsOnlineSale' ,'VehYear', 'VehicleAge', 'VehOdo', 'MMRAcquisitionAuctionAveragePrice', 'MMRAcquisitionAuctionCleanPrice', 'MMRAcquisitionRetailAveragePrice', 'MMRAcquisitonRetailCleanPrice', 'MMRCurrentAuctionAveragePrice', 'MMRCurrentAuctionCleanPrice', 'MMRCurrentRetailAveragePrice', 'MMRCurrentRetailCleanPrice', 'VehBCost', 'WarrantyCost'])\n",
    "test_data[\"label\"] = y_test\n",
    "print(test_data.shape)\n",
    "\n",
    "train_data.to_csv(\"train_data.csv\",index=False)\n",
    "test_data.to_csv(\"test_data.csv\",index=False)"
   ]
  },
  {
   "cell_type": "code",
   "execution_count": null,
   "metadata": {},
   "outputs": [],
   "source": []
  }
 ],
 "metadata": {
  "kernelspec": {
   "display_name": "Python 3",
   "language": "python",
   "name": "python3"
  },
  "language_info": {
   "codemirror_mode": {
    "name": "ipython",
    "version": 3
   },
   "file_extension": ".py",
   "mimetype": "text/x-python",
   "name": "python",
   "nbconvert_exporter": "python",
   "pygments_lexer": "ipython3",
   "version": "3.8.3"
  }
 },
 "nbformat": 4,
 "nbformat_minor": 5
}
